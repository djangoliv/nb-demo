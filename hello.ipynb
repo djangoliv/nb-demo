{
 "cells": [
  {
   "cell_type": "code",
   "execution_count": 8,
   "id": "6e907de2-892d-42ae-8536-fbd2d4923bcf",
   "metadata": {},
   "outputs": [
    {
     "data": {
      "text/html": [
       "<style>div.header {background-color: whitesmoke} </style>"
      ],
      "text/plain": [
       "<IPython.core.display.HTML object>"
      ]
     },
     "execution_count": 8,
     "metadata": {},
     "output_type": "execute_result"
    }
   ],
   "source": [
    "from IPython.display import HTML\n",
    "\n",
    "style = \"<style>div.header {background-color: whitesmoke} </style>\"\n",
    "HTML(style)"
   ]
  },
  {
   "cell_type": "markdown",
   "id": "52fbfdbb-cdd7-42f3-bab7-0cb25a241a8e",
   "metadata": {},
   "source": [
    "<div class=\"header\">\n",
    " <a href=\"./index.ipynb\">\n",
    "    <h1><img src=\"https://www.pinclipart.com/picdir/middle/343-3434813_free-png-download-back-arrow-icon-png-images.png\" width=\"50px\"> Back to index</h1>\n",
    "    </a>\n",
    "</div>"
   ]
  },
  {
   "cell_type": "markdown",
   "id": "32e51b7e",
   "metadata": {},
   "source": [
    "# 🚀 Simple Demo notebook \n",
    "\n",
    "<div>\n",
    "<img src=\"https://upload.wikimedia.org/wikipedia/commons/7/7f/ENGIE_logotype_2018.png\" alt=\"engie\" title=\"Engie\" width=\"150\"/>\n",
    "&ensp;&ensp;&ensp;  <img src=\"https://www.logilab.fr/data/6cda2585cb8c868dee0e8892b3e5b50e/logo.png\" alt=\"logilab\" title=\"Logilab\" width=\"80\"/>\n",
    "</div>"
   ]
  },
  {
   "cell_type": "code",
   "execution_count": null,
   "id": "58f8bd20",
   "metadata": {},
   "outputs": [],
   "source": [
    "instance = \"integration\"\n",
    "eid = 0"
   ]
  },
  {
   "cell_type": "code",
   "execution_count": null,
   "id": "20fedec7-ca09-4768-9a66-0103be146b87",
   "metadata": {},
   "outputs": [],
   "source": [
    "import ipywidgets as widgets\n",
    "import matplotlib.pyplot as plt\n",
    "import pandas as pd\n",
    "from IPython.display import clear_output\n",
    "from matplotlib.pyplot import figure"
   ]
  },
  {
   "cell_type": "code",
   "execution_count": null,
   "id": "78299968-e64c-4737-bf8a-fad2d75e2a7f",
   "metadata": {},
   "outputs": [],
   "source": [
    "out = widgets.Output(layout={'border': '1px solid black'})\n",
    "with out:\n",
    "    display(widgets.HTML(value=f\"<h2>You are on <font color='blue'>{instance} <font color='black'>instance with <font color='blue'>eid={eid}</h2>\"))"
   ]
  },
  {
   "cell_type": "code",
   "execution_count": null,
   "id": "c08d2081-0936-4d9a-8943-1b4440e5ab48",
   "metadata": {},
   "outputs": [],
   "source": [
    "out2 = widgets.Output()\n",
    "\n",
    "  \n",
    "df = pd.DataFrame({\n",
    "    'name':['john','mary','peter','jeff','bill','lisa','jose'],\n",
    "    'age':[23,78-eid,22+eid,19+eid,45,33,20+eid],\n",
    "    'gender':['M','F','M','M','M','F','M'],\n",
    "    'state':['california','dc','california','dc','california','texas','texas'],\n",
    "    'num_children':[2,0,0,3,2,1,4],\n",
    "    'num_pets':[eid + 5,eid+1,eid+0,eid+5,2,2,3]\n",
    "})\n",
    "with out2:\n",
    "    clear_output()\n",
    "    df.plot(figsize=(18, 10), kind='bar',x='name',y='age')\n",
    "    ax = plt.gca()\n",
    "    df.plot(kind='line',x='name',y='num_children',ax=ax)\n",
    "    df.plot(kind='line',x='name',y='num_pets', color='red', ax=ax)\n",
    "    plt.show()\n",
    "\n",
    "display(widgets.VBox([out, out2]))"
   ]
  }
 ],
 "metadata": {
  "kernelspec": {
   "display_name": "Python 3 (ipykernel)",
   "language": "python",
   "name": "python3"
  },
  "language_info": {
   "codemirror_mode": {
    "name": "ipython",
    "version": 3
   },
   "file_extension": ".py",
   "mimetype": "text/x-python",
   "name": "python",
   "nbconvert_exporter": "python",
   "pygments_lexer": "ipython3",
   "version": "3.9.2"
  }
 },
 "nbformat": 4,
 "nbformat_minor": 5
}
