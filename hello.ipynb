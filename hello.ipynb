{
 "cells": [
  {
   "cell_type": "code",
   "execution_count": null,
   "id": "6e907de2-892d-42ae-8536-fbd2d4923bcf",
   "metadata": {},
   "outputs": [],
   "source": [
    "from IPython.display import HTML\n",
    "\n",
    "style = \"<style>div.header {background-color: whitesmoke} </style>\"\n",
    "HTML(style)"
   ]
  },
  {
   "cell_type": "markdown",
   "id": "52fbfdbb-cdd7-42f3-bab7-0cb25a241a8e",
   "metadata": {},
   "source": [
    "<div class=\"header\">\n",
    " <a href=\"./index.ipynb\">\n",
    "    <h3><img src=\"https://www.pinclipart.com/picdir/middle/343-3434813_free-png-download-back-arrow-icon-png-images.png\" width=\"50px\"> Back to index</h3>\n",
    "    </a>\n",
    "</div>"
   ]
  },
  {
   "cell_type": "markdown",
   "id": "32e51b7e",
   "metadata": {},
   "source": [
    "# <img src=\"https://particuliers.engie.fr/etc/designs/business-factory/particuliers/images/logo-engie.svg\" alt=\"engie\" title=\"Engie\" width=\"150\"/> Demo notebook \n"
   ]
  },
  {
   "cell_type": "code",
   "execution_count": null,
   "id": "20fedec7-ca09-4768-9a66-0103be146b87",
   "metadata": {},
   "outputs": [],
   "source": [
    "import ipywidgets as widgets\n",
    "import matplotlib.pyplot as plt\n",
    "import pandas as pd\n",
    "from IPython.display import clear_output\n",
    "from matplotlib.pyplot import figure"
   ]
  },
  {
   "cell_type": "code",
   "execution_count": null,
   "id": "58f8bd20",
   "metadata": {},
   "outputs": [],
   "source": [
    "instance_widget = widgets.Dropdown(\n",
    "    options=['Integration', 'Production'],\n",
    "    value='Integration',\n",
    "    description='Instance:',\n",
    ")\n",
    "\n",
    "eid_widget = widgets.IntText(\n",
    "    value=0,\n",
    "    description='Eid:',\n",
    "    disabled=False\n",
    ")\n",
    "\n",
    "display(widgets.VBox([instance_widget , eid_widget]))"
   ]
  },
  {
   "cell_type": "code",
   "execution_count": null,
   "id": "c08d2081-0936-4d9a-8943-1b4440e5ab48",
   "metadata": {},
   "outputs": [],
   "source": [
    "out = widgets.Output()\n",
    "\n",
    "def on_button_clicked(b):\n",
    "    eid = eid_widget.value\n",
    "    df = pd.DataFrame({\n",
    "        'name':['john','mary','peter','jeff','bill','lisa','jose'],\n",
    "        'age':[23,78-eid,22+eid,19+eid,45,33,20+eid],\n",
    "        'gender':['M','F','M','M','M','F','M'],\n",
    "        'state':['california','dc','california','dc','california','texas','texas'],\n",
    "        'num_1':[2,0,0,3,2,1,4],\n",
    "        'num_2':[eid + 5,eid+1,eid+0,eid+5,2,2,3]\n",
    "    })\n",
    "    with out:\n",
    "        clear_output()\n",
    "        display(widgets.HTML(\n",
    "            value=f\"<h2>You are on <font color='blue'>{instance_widget.value} <font color='black'>instance with <font color='blue'>eid={eid}</h2>\"\n",
    "        ))\n",
    "        df.plot(figsize=(18, 10), kind='bar',x='name',y='age')\n",
    "        ax = plt.gca()\n",
    "        df.plot(kind='line',x='name',y='num_1',ax=ax)\n",
    "        df.plot(kind='line',x='name',y='num_2', color='red', ax=ax)\n",
    "        plt.show()\n",
    "\n",
    "button = widgets.Button(\n",
    "    description='🚀 Start',\n",
    "    disabled=False,\n",
    "    tooltip='Click me',\n",
    "    icon=''\n",
    ")\n",
    "button.on_click(on_button_clicked)\n",
    "display(button)\n",
    "display(out)"
   ]
  }
 ],
 "metadata": {
  "kernelspec": {
   "display_name": "Python 3 (ipykernel)",
   "language": "python",
   "name": "python3"
  },
  "language_info": {
   "codemirror_mode": {
    "name": "ipython",
    "version": 3
   },
   "file_extension": ".py",
   "mimetype": "text/x-python",
   "name": "python",
   "nbconvert_exporter": "python",
   "pygments_lexer": "ipython3",
   "version": "3.9.2"
  }
 },
 "nbformat": 4,
 "nbformat_minor": 5
}
