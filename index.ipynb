{
 "cells": [
  {
   "cell_type": "markdown",
   "id": "0c376dcc-f9bd-41ce-a7d9-c05bd5834f7c",
   "metadata": {},
   "source": [
    "<img src=\"https://upload.wikimedia.org/wikipedia/commons/7/7f/ENGIE_logotype_2018.png\" alt=\"engie\" title=\"Engie\" width=\"350\"/>\n",
    "\n",
    "# Nemo apps\n",
    "\n",
    "This sketch web application was built with Jupyter Notebook and Mercury framework.\n",
    "\n",
    "## 🖥️ Apps\n",
    "\n",
    "[hello](./hello.ipynb)"
   ]
  }
 ],
 "metadata": {
  "kernelspec": {
   "display_name": "Python 3 (ipykernel)",
   "language": "python",
   "name": "python3"
  },
  "language_info": {
   "codemirror_mode": {
    "name": "ipython",
    "version": 3
   },
   "file_extension": ".py",
   "mimetype": "text/x-python",
   "name": "python",
   "nbconvert_exporter": "python",
   "pygments_lexer": "ipython3",
   "version": "3.9.2"
  }
 },
 "nbformat": 4,
 "nbformat_minor": 5
}
