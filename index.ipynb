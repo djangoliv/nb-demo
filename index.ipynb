{
 "cells": [
  {
   "cell_type": "code",
   "execution_count": null,
   "id": "aa88ec13-6f95-4081-907c-b218ed9cfe01",
   "metadata": {},
   "outputs": [],
   "source": [
    "from IPython.display import HTML\n",
    "\n",
    "style = \"<style>div.cards {display: flex;justify-content: center;} div.card {margin: 1em; box-shadow: 0 4px 8px 0 rgba(0,0,0,0.2); width: 200px; transition: 0.3s;} div.card:hover {box-shadow: 0 8px 16px 0 rgba(0,0,0,0.2);} div.container {padding: 1em;} </style>\"\n",
    "HTML(style)\n"
   ]
  },
  {
   "cell_type": "markdown",
   "id": "0c376dcc-f9bd-41ce-a7d9-c05bd5834f7c",
   "metadata": {},
   "source": [
    "<h1>\n",
    "<img src=\"https://digital.engie.com/sites/default/files/assets/2021-03/Nemo.svg\" alt=\"engie\" title=\"Engie\" width=\"350\"/>\n",
    "</h1>\n",
    "\n",
    "## 🖥️ apps\n",
    "\n",
    "This sketch web application was built with Jupyter Notebook and Voila\n",
    "\n",
    "<div class=\"cards\">\n",
    "    <div class=\"card\">\n",
    "          <div class=\"container\">\n",
    "              <br />\n",
    "              <a href=\"./hello.ipynb\">\n",
    "              <img src=\"https://particuliers.engie.fr/etc/designs/business-factory/particuliers/images/logo-engie.svg\" alt=\"engie\" title=\"Engie\" width=\"105\"/>\n",
    "              </a>\n",
    "               <br /><br />\n",
    "              <p>Demo Engie notebook</p>\n",
    "          </div>\n",
    "    </div>\n",
    "    <div class=\"card\">\n",
    "          <div class=\"container\">\n",
    "               <br />\n",
    "               <a href=\"./hello.ipynb\">\n",
    "               <img src=\"https://www.logilab.fr/data/6cda2585cb8c868dee0e8892b3e5b50e/logo.png\" alt=\"engie\" title=\"Engie\" width=\"80\"/>\n",
    "              </a>\n",
    "               <br /><br />\n",
    "              <p>Demo Logilab notebook</p>\n",
    "        </div>\n",
    "    </div>\n",
    "</div>\n"
   ]
  }
 ],
 "metadata": {
  "kernelspec": {
   "display_name": "Python 3 (ipykernel)",
   "language": "python",
   "name": "python3"
  },
  "language_info": {
   "codemirror_mode": {
    "name": "ipython",
    "version": 3
   },
   "file_extension": ".py",
   "mimetype": "text/x-python",
   "name": "python",
   "nbconvert_exporter": "python",
   "pygments_lexer": "ipython3",
   "version": "3.9.2"
  }
 },
 "nbformat": 4,
 "nbformat_minor": 5
}
